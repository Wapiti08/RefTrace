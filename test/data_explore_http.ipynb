{
 "cells": [
  {
   "cell_type": "code",
   "execution_count": 1,
   "metadata": {},
   "outputs": [],
   "source": [
    "import dask.dataframe as dd\n",
    "from zat.log_to_dataframe import LogToDataFrame\n"
   ]
  },
  {
   "cell_type": "code",
   "execution_count": 2,
   "metadata": {},
   "outputs": [],
   "source": [
    "log_file = \"../data/http.log\"\n",
    "log_to_df = LogToDataFrame()\n",
    "log_df = log_to_df.create_dataframe(log_file, ts_index=False)"
   ]
  },
  {
   "attachments": {},
   "cell_type": "markdown",
   "metadata": {},
   "source": [
    "check the response code for the relationship  between referer and request url "
   ]
  },
  {
   "cell_type": "code",
   "execution_count": 3,
   "metadata": {},
   "outputs": [
    {
     "data": {
      "text/plain": [
       "Index(['ts', 'uid', 'id.orig_h', 'id.orig_p', 'id.resp_h', 'id.resp_p',\n",
       "       'trans_depth', 'method', 'host', 'uri', 'referrer', 'user_agent',\n",
       "       'request_body_len', 'response_body_len', 'status_code', 'status_msg',\n",
       "       'info_code', 'info_msg', 'filename', 'tags', 'username', 'password',\n",
       "       'proxied', 'orig_fuids', 'orig_mime_types', 'resp_fuids',\n",
       "       'resp_mime_types'],\n",
       "      dtype='object')"
      ]
     },
     "execution_count": 3,
     "metadata": {},
     "output_type": "execute_result"
    }
   ],
   "source": [
    "log_df.columns"
   ]
  },
  {
   "cell_type": "code",
   "execution_count": 4,
   "metadata": {},
   "outputs": [],
   "source": [
    "desired_columns = ['id.orig_h','host','uri','referrer','status_code']"
   ]
  },
  {
   "cell_type": "code",
   "execution_count": 5,
   "metadata": {},
   "outputs": [],
   "source": [
    "data = log_df[desired_columns]"
   ]
  },
  {
   "cell_type": "code",
   "execution_count": 6,
   "metadata": {},
   "outputs": [
    {
     "data": {
      "text/html": [
       "<div>\n",
       "<style scoped>\n",
       "    .dataframe tbody tr th:only-of-type {\n",
       "        vertical-align: middle;\n",
       "    }\n",
       "\n",
       "    .dataframe tbody tr th {\n",
       "        vertical-align: top;\n",
       "    }\n",
       "\n",
       "    .dataframe thead th {\n",
       "        text-align: right;\n",
       "    }\n",
       "</style>\n",
       "<table border=\"1\" class=\"dataframe\">\n",
       "  <thead>\n",
       "    <tr style=\"text-align: right;\">\n",
       "      <th></th>\n",
       "      <th>id.orig_h</th>\n",
       "      <th>host</th>\n",
       "      <th>uri</th>\n",
       "      <th>referrer</th>\n",
       "      <th>status_code</th>\n",
       "    </tr>\n",
       "  </thead>\n",
       "  <tbody>\n",
       "    <tr>\n",
       "      <th>2</th>\n",
       "      <td>10.0.2.200</td>\n",
       "      <td>redirector.gvt1.com</td>\n",
       "      <td>/edgedl/update2/1.3.29.5/GoogleUpdateSetup.exe</td>\n",
       "      <td>NaN</td>\n",
       "      <td>302</td>\n",
       "    </tr>\n",
       "    <tr>\n",
       "      <th>28</th>\n",
       "      <td>10.0.2.200</td>\n",
       "      <td>ui.skype.com</td>\n",
       "      <td>/ui/0/7.16.0.102/en/upgrade</td>\n",
       "      <td>NaN</td>\n",
       "      <td>302</td>\n",
       "    </tr>\n",
       "    <tr>\n",
       "      <th>29</th>\n",
       "      <td>10.0.2.200</td>\n",
       "      <td>get.skype.com</td>\n",
       "      <td>/go/getskype-upgrade-new?ver=7.16.0.102&amp;source...</td>\n",
       "      <td>NaN</td>\n",
       "      <td>302</td>\n",
       "    </tr>\n",
       "    <tr>\n",
       "      <th>76</th>\n",
       "      <td>10.0.2.200</td>\n",
       "      <td>pixel.advertising.com</td>\n",
       "      <td>/ups/41/sync?uid=c0272fde497792076cb12079e4294...</td>\n",
       "      <td>http://www.huffingtonpost.com/ming-holden/the-...</td>\n",
       "      <td>302</td>\n",
       "    </tr>\n",
       "    <tr>\n",
       "      <th>78</th>\n",
       "      <td>10.0.2.200</td>\n",
       "      <td>at.atwola.com</td>\n",
       "      <td>/addyn/3.0/5113.1/221794/0/-1/size=6x2;noperf=...</td>\n",
       "      <td>http://www.huffingtonpost.com/ming-holden/the-...</td>\n",
       "      <td>302</td>\n",
       "    </tr>\n",
       "    <tr>\n",
       "      <th>...</th>\n",
       "      <td>...</td>\n",
       "      <td>...</td>\n",
       "      <td>...</td>\n",
       "      <td>...</td>\n",
       "      <td>...</td>\n",
       "    </tr>\n",
       "    <tr>\n",
       "      <th>911</th>\n",
       "      <td>10.0.2.200</td>\n",
       "      <td>redirector.gvt1.com</td>\n",
       "      <td>/crx/blobs/QgAAAC6zw0qH2DJtnXe8Z7rUJP0rZ86QuDR...</td>\n",
       "      <td>NaN</td>\n",
       "      <td>302</td>\n",
       "    </tr>\n",
       "    <tr>\n",
       "      <th>913</th>\n",
       "      <td>10.0.2.200</td>\n",
       "      <td>redirector.gvt1.com</td>\n",
       "      <td>/crx/blobs/QgAAAC6zw0qH2DJtnXe8Z7rUJP0rZ86QuDR...</td>\n",
       "      <td>NaN</td>\n",
       "      <td>302</td>\n",
       "    </tr>\n",
       "    <tr>\n",
       "      <th>915</th>\n",
       "      <td>10.0.2.200</td>\n",
       "      <td>redirector.gvt1.com</td>\n",
       "      <td>/crx/blobs/QgAAAC6zw0qH2DJtnXe8Z7rUJP0rZ86QuDR...</td>\n",
       "      <td>NaN</td>\n",
       "      <td>302</td>\n",
       "    </tr>\n",
       "    <tr>\n",
       "      <th>917</th>\n",
       "      <td>10.0.2.200</td>\n",
       "      <td>redirector.gvt1.com</td>\n",
       "      <td>/crx/blobs/QgAAAC6zw0qH2DJtnXe8Z7rUJP0rZ86QuDR...</td>\n",
       "      <td>NaN</td>\n",
       "      <td>302</td>\n",
       "    </tr>\n",
       "    <tr>\n",
       "      <th>919</th>\n",
       "      <td>10.0.2.200</td>\n",
       "      <td>redirector.gvt1.com</td>\n",
       "      <td>/crx/blobs/QgAAAC6zw0qH2DJtnXe8Z7rUJP0rZ86QuDR...</td>\n",
       "      <td>NaN</td>\n",
       "      <td>302</td>\n",
       "    </tr>\n",
       "  </tbody>\n",
       "</table>\n",
       "<p>121 rows × 5 columns</p>\n",
       "</div>"
      ],
      "text/plain": [
       "      id.orig_h                   host  \\\n",
       "2    10.0.2.200    redirector.gvt1.com   \n",
       "28   10.0.2.200           ui.skype.com   \n",
       "29   10.0.2.200          get.skype.com   \n",
       "76   10.0.2.200  pixel.advertising.com   \n",
       "78   10.0.2.200          at.atwola.com   \n",
       "..          ...                    ...   \n",
       "911  10.0.2.200    redirector.gvt1.com   \n",
       "913  10.0.2.200    redirector.gvt1.com   \n",
       "915  10.0.2.200    redirector.gvt1.com   \n",
       "917  10.0.2.200    redirector.gvt1.com   \n",
       "919  10.0.2.200    redirector.gvt1.com   \n",
       "\n",
       "                                                   uri  \\\n",
       "2       /edgedl/update2/1.3.29.5/GoogleUpdateSetup.exe   \n",
       "28                         /ui/0/7.16.0.102/en/upgrade   \n",
       "29   /go/getskype-upgrade-new?ver=7.16.0.102&source...   \n",
       "76   /ups/41/sync?uid=c0272fde497792076cb12079e4294...   \n",
       "78   /addyn/3.0/5113.1/221794/0/-1/size=6x2;noperf=...   \n",
       "..                                                 ...   \n",
       "911  /crx/blobs/QgAAAC6zw0qH2DJtnXe8Z7rUJP0rZ86QuDR...   \n",
       "913  /crx/blobs/QgAAAC6zw0qH2DJtnXe8Z7rUJP0rZ86QuDR...   \n",
       "915  /crx/blobs/QgAAAC6zw0qH2DJtnXe8Z7rUJP0rZ86QuDR...   \n",
       "917  /crx/blobs/QgAAAC6zw0qH2DJtnXe8Z7rUJP0rZ86QuDR...   \n",
       "919  /crx/blobs/QgAAAC6zw0qH2DJtnXe8Z7rUJP0rZ86QuDR...   \n",
       "\n",
       "                                              referrer  status_code  \n",
       "2                                                  NaN          302  \n",
       "28                                                 NaN          302  \n",
       "29                                                 NaN          302  \n",
       "76   http://www.huffingtonpost.com/ming-holden/the-...          302  \n",
       "78   http://www.huffingtonpost.com/ming-holden/the-...          302  \n",
       "..                                                 ...          ...  \n",
       "911                                                NaN          302  \n",
       "913                                                NaN          302  \n",
       "915                                                NaN          302  \n",
       "917                                                NaN          302  \n",
       "919                                                NaN          302  \n",
       "\n",
       "[121 rows x 5 columns]"
      ]
     },
     "metadata": {},
     "output_type": "display_data"
    }
   ],
   "source": [
    "from IPython.display import display\n",
    "\n",
    "redirect_resp_code = [301, 302, 303, 307]\n",
    "\n",
    "display(data[data['status_code'].isin(redirect_resp_code)])"
   ]
  },
  {
   "cell_type": "code",
   "execution_count": 19,
   "metadata": {},
   "outputs": [
    {
     "data": {
      "text/plain": [
       "302    119\n",
       "301      2\n",
       "Name: status_code, dtype: Int64"
      ]
     },
     "execution_count": 19,
     "metadata": {},
     "output_type": "execute_result"
    }
   ],
   "source": [
    "data[data['status_code'].isin(redirect_resp_code)]['status_code'].value_counts()"
   ]
  },
  {
   "cell_type": "code",
   "execution_count": 21,
   "metadata": {},
   "outputs": [
    {
     "data": {
      "text/html": [
       "<div>\n",
       "<style scoped>\n",
       "    .dataframe tbody tr th:only-of-type {\n",
       "        vertical-align: middle;\n",
       "    }\n",
       "\n",
       "    .dataframe tbody tr th {\n",
       "        vertical-align: top;\n",
       "    }\n",
       "\n",
       "    .dataframe thead th {\n",
       "        text-align: right;\n",
       "    }\n",
       "</style>\n",
       "<table border=\"1\" class=\"dataframe\">\n",
       "  <thead>\n",
       "    <tr style=\"text-align: right;\">\n",
       "      <th></th>\n",
       "      <th>id.orig_h</th>\n",
       "      <th>host</th>\n",
       "      <th>uri</th>\n",
       "      <th>referrer</th>\n",
       "      <th>status_code</th>\n",
       "    </tr>\n",
       "  </thead>\n",
       "  <tbody>\n",
       "    <tr>\n",
       "      <th>148</th>\n",
       "      <td>10.0.2.200</td>\n",
       "      <td>www.linkedin.com</td>\n",
       "      <td>/countserv/count/share?url=http://www.huffingt...</td>\n",
       "      <td>http://www.huffingtonpost.com/ming-holden/the-...</td>\n",
       "      <td>301</td>\n",
       "    </tr>\n",
       "    <tr>\n",
       "      <th>578</th>\n",
       "      <td>10.0.2.200</td>\n",
       "      <td>wufoo.com</td>\n",
       "      <td>/scripts/embed/form.js</td>\n",
       "      <td>http://www.advancedtissue.com/6-signs-you-have...</td>\n",
       "      <td>301</td>\n",
       "    </tr>\n",
       "  </tbody>\n",
       "</table>\n",
       "</div>"
      ],
      "text/plain": [
       "      id.orig_h              host  \\\n",
       "148  10.0.2.200  www.linkedin.com   \n",
       "578  10.0.2.200         wufoo.com   \n",
       "\n",
       "                                                   uri  \\\n",
       "148  /countserv/count/share?url=http://www.huffingt...   \n",
       "578                             /scripts/embed/form.js   \n",
       "\n",
       "                                              referrer  status_code  \n",
       "148  http://www.huffingtonpost.com/ming-holden/the-...          301  \n",
       "578  http://www.advancedtissue.com/6-signs-you-have...          301  "
      ]
     },
     "execution_count": 21,
     "metadata": {},
     "output_type": "execute_result"
    }
   ],
   "source": [
    "data[data['status_code'].isin([301])]"
   ]
  },
  {
   "cell_type": "code",
   "execution_count": 24,
   "metadata": {},
   "outputs": [
    {
     "data": {
      "text/html": [
       "<div>\n",
       "<style scoped>\n",
       "    .dataframe tbody tr th:only-of-type {\n",
       "        vertical-align: middle;\n",
       "    }\n",
       "\n",
       "    .dataframe tbody tr th {\n",
       "        vertical-align: top;\n",
       "    }\n",
       "\n",
       "    .dataframe thead th {\n",
       "        text-align: right;\n",
       "    }\n",
       "</style>\n",
       "<table border=\"1\" class=\"dataframe\">\n",
       "  <thead>\n",
       "    <tr style=\"text-align: right;\">\n",
       "      <th></th>\n",
       "      <th>id.orig_h</th>\n",
       "      <th>host</th>\n",
       "      <th>uri</th>\n",
       "      <th>referrer</th>\n",
       "      <th>status_code</th>\n",
       "    </tr>\n",
       "  </thead>\n",
       "  <tbody>\n",
       "    <tr>\n",
       "      <th>148</th>\n",
       "      <td>10.0.2.200</td>\n",
       "      <td>www.linkedin.com</td>\n",
       "      <td>/countserv/count/share?url=http://www.huffingt...</td>\n",
       "      <td>http://www.huffingtonpost.com/ming-holden/the-...</td>\n",
       "      <td>301</td>\n",
       "    </tr>\n",
       "    <tr>\n",
       "      <th>149</th>\n",
       "      <td>10.0.2.200</td>\n",
       "      <td>api.facebook.com</td>\n",
       "      <td>/restserver.php?format=json&amp;method=links.getSt...</td>\n",
       "      <td>http://www.huffingtonpost.com/ming-holden/the-...</td>\n",
       "      <td>200</td>\n",
       "    </tr>\n",
       "  </tbody>\n",
       "</table>\n",
       "</div>"
      ],
      "text/plain": [
       "      id.orig_h              host  \\\n",
       "148  10.0.2.200  www.linkedin.com   \n",
       "149  10.0.2.200  api.facebook.com   \n",
       "\n",
       "                                                   uri  \\\n",
       "148  /countserv/count/share?url=http://www.huffingt...   \n",
       "149  /restserver.php?format=json&method=links.getSt...   \n",
       "\n",
       "                                              referrer  status_code  \n",
       "148  http://www.huffingtonpost.com/ming-holden/the-...          301  \n",
       "149  http://www.huffingtonpost.com/ming-holden/the-...          200  "
      ]
     },
     "execution_count": 24,
     "metadata": {},
     "output_type": "execute_result"
    }
   ],
   "source": [
    "data.iloc[148:150]"
   ]
  },
  {
   "cell_type": "code",
   "execution_count": 8,
   "metadata": {},
   "outputs": [
    {
     "data": {
      "text/plain": [
       "2"
      ]
     },
     "execution_count": 8,
     "metadata": {},
     "output_type": "execute_result"
    }
   ],
   "source": [
    "# get the subsequent indexes\n",
    "data[data['status_code'].isin(redirect_resp_code)].index[0]"
   ]
  },
  {
   "cell_type": "code",
   "execution_count": 25,
   "metadata": {},
   "outputs": [
    {
     "data": {
      "text/plain": [
       "'redirector.gvt1.com/edgedl/update2/1.3.29.5/GoogleUpdateSetup.exe'"
      ]
     },
     "execution_count": 25,
     "metadata": {},
     "output_type": "execute_result"
    }
   ],
   "source": [
    "data['host'][2] + data['uri'][2]"
   ]
  },
  {
   "attachments": {},
   "cell_type": "markdown",
   "metadata": {},
   "source": [
    "check the independant nodes based referer value"
   ]
  },
  {
   "cell_type": "code",
   "execution_count": 40,
   "metadata": {},
   "outputs": [
    {
     "data": {
      "text/html": [
       "<div>\n",
       "<style scoped>\n",
       "    .dataframe tbody tr th:only-of-type {\n",
       "        vertical-align: middle;\n",
       "    }\n",
       "\n",
       "    .dataframe tbody tr th {\n",
       "        vertical-align: top;\n",
       "    }\n",
       "\n",
       "    .dataframe thead th {\n",
       "        text-align: right;\n",
       "    }\n",
       "</style>\n",
       "<table border=\"1\" class=\"dataframe\">\n",
       "  <thead>\n",
       "    <tr style=\"text-align: right;\">\n",
       "      <th></th>\n",
       "      <th>dest_address</th>\n",
       "      <th>raw_event</th>\n",
       "      <th>http_referer</th>\n",
       "      <th>request_url</th>\n",
       "      <th>response_code</th>\n",
       "      <th>src_address</th>\n",
       "    </tr>\n",
       "  </thead>\n",
       "  <tbody>\n",
       "    <tr>\n",
       "      <th>0</th>\n",
       "      <td>36.110.97.178</td>\n",
       "      <td>27.221.108.60-&lt;174&gt;Apr  2 00:00:23 sdjn-self h...</td>\n",
       "      <td>NaN</td>\n",
       "      <td>/</td>\n",
       "      <td>200</td>\n",
       "      <td>119.188.182.132</td>\n",
       "    </tr>\n",
       "    <tr>\n",
       "      <th>2</th>\n",
       "      <td>172.16.13.17</td>\n",
       "      <td>183.61.189.166-&lt;174&gt;Apr  2 17:21:33 gddg-self ...</td>\n",
       "      <td>NaN</td>\n",
       "      <td>/monAndProject/specialView?bercommId=502&amp;typeN...</td>\n",
       "      <td>200</td>\n",
       "      <td>157.55.39.211</td>\n",
       "    </tr>\n",
       "    <tr>\n",
       "      <th>3</th>\n",
       "      <td>172.16.16.14</td>\n",
       "      <td>116.211.138.194-&lt;174&gt;Apr  2 12:20:48 wh-self h...</td>\n",
       "      <td>NaN</td>\n",
       "      <td>/book/2750412</td>\n",
       "      <td>200</td>\n",
       "      <td>116.179.32.50</td>\n",
       "    </tr>\n",
       "    <tr>\n",
       "      <th>4</th>\n",
       "      <td>172.16.13.17</td>\n",
       "      <td>183.61.189.166-&lt;174&gt;Apr  2 17:14:53 gddg-self ...</td>\n",
       "      <td>NaN</td>\n",
       "      <td>/monAndProject/specialView?searchWord=&amp;field=%...</td>\n",
       "      <td>403</td>\n",
       "      <td>185.11.61.247</td>\n",
       "    </tr>\n",
       "    <tr>\n",
       "      <th>6</th>\n",
       "      <td>172.16.16.13</td>\n",
       "      <td>116.211.138.194-&lt;174&gt;Apr  2 17:24:30 wh-self h...</td>\n",
       "      <td>NaN</td>\n",
       "      <td>/book/8263572</td>\n",
       "      <td>200</td>\n",
       "      <td>220.181.108.155</td>\n",
       "    </tr>\n",
       "    <tr>\n",
       "      <th>...</th>\n",
       "      <td>...</td>\n",
       "      <td>...</td>\n",
       "      <td>...</td>\n",
       "      <td>...</td>\n",
       "      <td>...</td>\n",
       "      <td>...</td>\n",
       "    </tr>\n",
       "    <tr>\n",
       "      <th>43591</th>\n",
       "      <td>172.16.8.12</td>\n",
       "      <td>27.221.108.60-&lt;174&gt;Apr  3 23:42:27 sdjn-self h...</td>\n",
       "      <td>NaN</td>\n",
       "      <td>/search/makeInternet?param=%5BDe+Jong%2C+Kenne...</td>\n",
       "      <td>302</td>\n",
       "      <td>185.13.99.111</td>\n",
       "    </tr>\n",
       "    <tr>\n",
       "      <th>43592</th>\n",
       "      <td>172.16.8.14</td>\n",
       "      <td>27.221.108.60-&lt;174&gt;Apr  3 23:45:06 sdjn-self h...</td>\n",
       "      <td>NaN</td>\n",
       "      <td>/book/7108463</td>\n",
       "      <td>302</td>\n",
       "      <td>54.36.149.72</td>\n",
       "    </tr>\n",
       "    <tr>\n",
       "      <th>43593</th>\n",
       "      <td>172.16.8.12</td>\n",
       "      <td>27.221.108.60-&lt;174&gt;Apr  3 23:54:11 sdjn-self h...</td>\n",
       "      <td>NaN</td>\n",
       "      <td>/book/1204271</td>\n",
       "      <td>200</td>\n",
       "      <td>116.179.32.138</td>\n",
       "    </tr>\n",
       "    <tr>\n",
       "      <th>43598</th>\n",
       "      <td>172.16.16.13</td>\n",
       "      <td>116.211.138.194-&lt;174&gt;Apr  3 13:06:17 wh-self h...</td>\n",
       "      <td>NaN</td>\n",
       "      <td>/monAndProject/specialView?searchWord=&amp;typeId=...</td>\n",
       "      <td>200</td>\n",
       "      <td>54.36.148.231</td>\n",
       "    </tr>\n",
       "    <tr>\n",
       "      <th>43599</th>\n",
       "      <td>172.16.9.13</td>\n",
       "      <td>180.96.16.229-&lt;174&gt;Apr  3 11:29:07 jsnj-self h...</td>\n",
       "      <td>NaN</td>\n",
       "      <td>/monAndProject/more?type=%E4%B8%93%E9%A2%98%E7...</td>\n",
       "      <td>200</td>\n",
       "      <td>3.223.44.119</td>\n",
       "    </tr>\n",
       "  </tbody>\n",
       "</table>\n",
       "<p>54594 rows × 6 columns</p>\n",
       "</div>"
      ],
      "text/plain": [
       "        dest_address                                          raw_event  \\\n",
       "0      36.110.97.178  27.221.108.60-<174>Apr  2 00:00:23 sdjn-self h...   \n",
       "2       172.16.13.17  183.61.189.166-<174>Apr  2 17:21:33 gddg-self ...   \n",
       "3       172.16.16.14  116.211.138.194-<174>Apr  2 12:20:48 wh-self h...   \n",
       "4       172.16.13.17  183.61.189.166-<174>Apr  2 17:14:53 gddg-self ...   \n",
       "6       172.16.16.13  116.211.138.194-<174>Apr  2 17:24:30 wh-self h...   \n",
       "...              ...                                                ...   \n",
       "43591    172.16.8.12  27.221.108.60-<174>Apr  3 23:42:27 sdjn-self h...   \n",
       "43592    172.16.8.14  27.221.108.60-<174>Apr  3 23:45:06 sdjn-self h...   \n",
       "43593    172.16.8.12  27.221.108.60-<174>Apr  3 23:54:11 sdjn-self h...   \n",
       "43598   172.16.16.13  116.211.138.194-<174>Apr  3 13:06:17 wh-self h...   \n",
       "43599    172.16.9.13  180.96.16.229-<174>Apr  3 11:29:07 jsnj-self h...   \n",
       "\n",
       "      http_referer                                        request_url  \\\n",
       "0              NaN                                                  /   \n",
       "2              NaN  /monAndProject/specialView?bercommId=502&typeN...   \n",
       "3              NaN                                      /book/2750412   \n",
       "4              NaN  /monAndProject/specialView?searchWord=&field=%...   \n",
       "6              NaN                                      /book/8263572   \n",
       "...            ...                                                ...   \n",
       "43591          NaN  /search/makeInternet?param=%5BDe+Jong%2C+Kenne...   \n",
       "43592          NaN                                      /book/7108463   \n",
       "43593          NaN                                      /book/1204271   \n",
       "43598          NaN  /monAndProject/specialView?searchWord=&typeId=...   \n",
       "43599          NaN  /monAndProject/more?type=%E4%B8%93%E9%A2%98%E7...   \n",
       "\n",
       "       response_code      src_address  \n",
       "0                200  119.188.182.132  \n",
       "2                200    157.55.39.211  \n",
       "3                200    116.179.32.50  \n",
       "4                403    185.11.61.247  \n",
       "6                200  220.181.108.155  \n",
       "...              ...              ...  \n",
       "43591            302    185.13.99.111  \n",
       "43592            302     54.36.149.72  \n",
       "43593            200   116.179.32.138  \n",
       "43598            200    54.36.148.231  \n",
       "43599            200     3.223.44.119  \n",
       "\n",
       "[54594 rows x 6 columns]"
      ]
     },
     "execution_count": 40,
     "metadata": {},
     "output_type": "execute_result"
    }
   ],
   "source": [
    "df[df[\"http_referer\"].isna()].compute()"
   ]
  },
  {
   "cell_type": "code",
   "execution_count": 37,
   "metadata": {},
   "outputs": [
    {
     "data": {
      "text/plain": [
       "0                                                      NaN\n",
       "1                      https://www.cebookss.com/book/15979\n",
       "2                                                      NaN\n",
       "3                                                      NaN\n",
       "4                                                      NaN\n",
       "                               ...                        \n",
       "43597    https://www.cebookss.com/monAndProject/special...\n",
       "43598                                                  NaN\n",
       "43599                                                  NaN\n",
       "43600               https://www.cebookss.com/book/11410775\n",
       "43601                https://www.cebookss.com/book/6055861\n",
       "Name: http_referer, Length: 140266, dtype: object"
      ]
     },
     "execution_count": 37,
     "metadata": {},
     "output_type": "execute_result"
    }
   ],
   "source": [
    "df[\"http_referer\"].compute()"
   ]
  },
  {
   "cell_type": "code",
   "execution_count": null,
   "metadata": {},
   "outputs": [],
   "source": []
  }
 ],
 "metadata": {
  "kernelspec": {
   "display_name": "env",
   "language": "python",
   "name": "python3"
  },
  "language_info": {
   "codemirror_mode": {
    "name": "ipython",
    "version": 3
   },
   "file_extension": ".py",
   "mimetype": "text/x-python",
   "name": "python",
   "nbconvert_exporter": "python",
   "pygments_lexer": "ipython3",
   "version": "3.8.1"
  },
  "orig_nbformat": 4
 },
 "nbformat": 4,
 "nbformat_minor": 2
}
