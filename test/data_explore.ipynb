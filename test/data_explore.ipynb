{
 "cells": [
  {
   "cell_type": "code",
   "execution_count": 1,
   "metadata": {},
   "outputs": [],
   "source": [
    "import dask.dataframe as dd"
   ]
  },
  {
   "cell_type": "code",
   "execution_count": 7,
   "metadata": {},
   "outputs": [],
   "source": [
    "df = dd.read_csv(\"../data/test_data.csv\")"
   ]
  },
  {
   "cell_type": "code",
   "execution_count": 8,
   "metadata": {},
   "outputs": [
    {
     "name": "stdout",
     "output_type": "stream",
     "text": [
      "Index(['dest_address', 'raw_event', 'http_referer', 'request_url',\n",
      "       'response_code', 'src_address'],\n",
      "      dtype='object')\n"
     ]
    }
   ],
   "source": [
    "print(df.columns)"
   ]
  },
  {
   "attachments": {},
   "cell_type": "markdown",
   "metadata": {},
   "source": [
    "check the response code for the relationship  between referer and request url "
   ]
  },
  {
   "cell_type": "markdown",
   "metadata": {},
   "source": [
    "check the response code for the relationship  between referer and request url "
   ]
  },
  {
   "cell_type": "code",
   "execution_count": 5,
   "metadata": {},
   "outputs": [
    {
     "ename": "KeyError",
     "evalue": "'response_code'",
     "output_type": "error",
     "traceback": [
      "\u001b[1;31m---------------------------------------------------------------------------\u001b[0m",
      "\u001b[1;31mKeyError\u001b[0m                                  Traceback (most recent call last)",
      "File \u001b[1;32me:\\open_source_projects\\RefTrace\\env\\lib\\site-packages\\pandas\\core\\indexes\\base.py:2895\u001b[0m, in \u001b[0;36mIndex.get_loc\u001b[1;34m(self, key, method, tolerance)\u001b[0m\n\u001b[0;32m   2894\u001b[0m \u001b[39mtry\u001b[39;00m:\n\u001b[1;32m-> 2895\u001b[0m     \u001b[39mreturn\u001b[39;00m \u001b[39mself\u001b[39;49m\u001b[39m.\u001b[39;49m_engine\u001b[39m.\u001b[39;49mget_loc(casted_key)\n\u001b[0;32m   2896\u001b[0m \u001b[39mexcept\u001b[39;00m \u001b[39mKeyError\u001b[39;00m \u001b[39mas\u001b[39;00m err:\n",
      "File \u001b[1;32mpandas\\_libs\\index.pyx:70\u001b[0m, in \u001b[0;36mpandas._libs.index.IndexEngine.get_loc\u001b[1;34m()\u001b[0m\n",
      "File \u001b[1;32mpandas\\_libs\\index.pyx:101\u001b[0m, in \u001b[0;36mpandas._libs.index.IndexEngine.get_loc\u001b[1;34m()\u001b[0m\n",
      "File \u001b[1;32mpandas\\_libs\\hashtable_class_helper.pxi:1675\u001b[0m, in \u001b[0;36mpandas._libs.hashtable.PyObjectHashTable.get_item\u001b[1;34m()\u001b[0m\n",
      "File \u001b[1;32mpandas\\_libs\\hashtable_class_helper.pxi:1683\u001b[0m, in \u001b[0;36mpandas._libs.hashtable.PyObjectHashTable.get_item\u001b[1;34m()\u001b[0m\n",
      "\u001b[1;31mKeyError\u001b[0m: 'response_code'",
      "\nThe above exception was the direct cause of the following exception:\n",
      "\u001b[1;31mKeyError\u001b[0m                                  Traceback (most recent call last)",
      "Cell \u001b[1;32mIn[5], line 2\u001b[0m\n\u001b[0;32m      1\u001b[0m redirect_resp_code \u001b[39m=\u001b[39m [\u001b[39m301\u001b[39m, \u001b[39m302\u001b[39m, \u001b[39m303\u001b[39m, \u001b[39m307\u001b[39m]\n\u001b[1;32m----> 2\u001b[0m df[\u001b[39m'\u001b[39;49m\u001b[39mresponse_code\u001b[39;49m\u001b[39m'\u001b[39;49m]\u001b[39m.\u001b[39mhead()\n",
      "File \u001b[1;32me:\\open_source_projects\\RefTrace\\env\\lib\\site-packages\\dask\\dataframe\\core.py:3679\u001b[0m, in \u001b[0;36mDataFrame.__getitem__\u001b[1;34m(self, key)\u001b[0m\n\u001b[0;32m   3676\u001b[0m         \u001b[39mreturn\u001b[39;00m \u001b[39mself\u001b[39m\u001b[39m.\u001b[39mloc[key]\n\u001b[0;32m   3678\u001b[0m \u001b[39m# error is raised from pandas\u001b[39;00m\n\u001b[1;32m-> 3679\u001b[0m meta \u001b[39m=\u001b[39m \u001b[39mself\u001b[39;49m\u001b[39m.\u001b[39;49m_meta[_extract_meta(key)]\n\u001b[0;32m   3680\u001b[0m dsk \u001b[39m=\u001b[39m partitionwise_graph(operator\u001b[39m.\u001b[39mgetitem, name, \u001b[39mself\u001b[39m, key)\n\u001b[0;32m   3681\u001b[0m graph \u001b[39m=\u001b[39m HighLevelGraph\u001b[39m.\u001b[39mfrom_collections(name, dsk, dependencies\u001b[39m=\u001b[39m[\u001b[39mself\u001b[39m])\n",
      "File \u001b[1;32me:\\open_source_projects\\RefTrace\\env\\lib\\site-packages\\pandas\\core\\frame.py:2902\u001b[0m, in \u001b[0;36mDataFrame.__getitem__\u001b[1;34m(self, key)\u001b[0m\n\u001b[0;32m   2900\u001b[0m \u001b[39mif\u001b[39;00m \u001b[39mself\u001b[39m\u001b[39m.\u001b[39mcolumns\u001b[39m.\u001b[39mnlevels \u001b[39m>\u001b[39m \u001b[39m1\u001b[39m:\n\u001b[0;32m   2901\u001b[0m     \u001b[39mreturn\u001b[39;00m \u001b[39mself\u001b[39m\u001b[39m.\u001b[39m_getitem_multilevel(key)\n\u001b[1;32m-> 2902\u001b[0m indexer \u001b[39m=\u001b[39m \u001b[39mself\u001b[39;49m\u001b[39m.\u001b[39;49mcolumns\u001b[39m.\u001b[39;49mget_loc(key)\n\u001b[0;32m   2903\u001b[0m \u001b[39mif\u001b[39;00m is_integer(indexer):\n\u001b[0;32m   2904\u001b[0m     indexer \u001b[39m=\u001b[39m [indexer]\n",
      "File \u001b[1;32me:\\open_source_projects\\RefTrace\\env\\lib\\site-packages\\pandas\\core\\indexes\\base.py:2897\u001b[0m, in \u001b[0;36mIndex.get_loc\u001b[1;34m(self, key, method, tolerance)\u001b[0m\n\u001b[0;32m   2895\u001b[0m         \u001b[39mreturn\u001b[39;00m \u001b[39mself\u001b[39m\u001b[39m.\u001b[39m_engine\u001b[39m.\u001b[39mget_loc(casted_key)\n\u001b[0;32m   2896\u001b[0m     \u001b[39mexcept\u001b[39;00m \u001b[39mKeyError\u001b[39;00m \u001b[39mas\u001b[39;00m err:\n\u001b[1;32m-> 2897\u001b[0m         \u001b[39mraise\u001b[39;00m \u001b[39mKeyError\u001b[39;00m(key) \u001b[39mfrom\u001b[39;00m \u001b[39merr\u001b[39;00m\n\u001b[0;32m   2899\u001b[0m \u001b[39mif\u001b[39;00m tolerance \u001b[39mis\u001b[39;00m \u001b[39mnot\u001b[39;00m \u001b[39mNone\u001b[39;00m:\n\u001b[0;32m   2900\u001b[0m     tolerance \u001b[39m=\u001b[39m \u001b[39mself\u001b[39m\u001b[39m.\u001b[39m_convert_tolerance(tolerance, np\u001b[39m.\u001b[39masarray(key))\n",
      "\u001b[1;31mKeyError\u001b[0m: 'response_code'"
     ]
    }
   ],
   "source": [
    "redirect_resp_code = [301, 302, 303, 307]\n",
    "df['response_code'].head()"
   ]
  },
  {
   "cell_type": "code",
   "execution_count": 18,
   "metadata": {},
   "outputs": [],
   "source": [
    "redir_reqs = df[df['response_code'].isin(redirect_resp_code)]\n"
   ]
  },
  {
   "cell_type": "code",
   "execution_count": 23,
   "metadata": {},
   "outputs": [
    {
     "data": {
      "text/plain": [
       "37       180.96.16.229-<174>Apr  2 16:07:11 jsnj-self h...\n",
       "48       116.211.138.194-<174>Apr  2 07:57:07 wh-self h...\n",
       "101      27.221.108.60-<174>Apr  2 07:43:24 sdjn-self h...\n",
       "331      183.61.189.166-<174>Apr  2 15:42:36 gddg-self ...\n",
       "332      183.61.189.166-<174>Apr  2 15:43:33 gddg-self ...\n",
       "                               ...                        \n",
       "43568    27.221.108.60-<174>Apr  3 23:59:03 sdjn-self h...\n",
       "43586    27.221.108.60-<174>Apr  3 23:26:57 sdjn-self h...\n",
       "43591    27.221.108.60-<174>Apr  3 23:42:27 sdjn-self h...\n",
       "43592    27.221.108.60-<174>Apr  3 23:45:06 sdjn-self h...\n",
       "43594    27.221.108.60-<174>Apr  3 23:56:56 sdjn-self h...\n",
       "Name: raw_event, Length: 8363, dtype: object"
      ]
     },
     "execution_count": 23,
     "metadata": {},
     "output_type": "execute_result"
    }
   ],
   "source": [
    "redir_reqs[\"raw_event\"].compute()"
   ]
  },
  {
   "cell_type": "code",
   "execution_count": 35,
   "metadata": {},
   "outputs": [
    {
     "data": {
      "text/plain": [
       "36    180.96.16.229-<174>Apr  2 16:05:30 jsnj-self h...\n",
       "36    116.211.138.194-<174>Apr  3 09:36:43 wh-self h...\n",
       "Name: raw_event, dtype: object"
      ]
     },
     "metadata": {},
     "output_type": "display_data"
    }
   ],
   "source": [
    "from IPython.display import display\n",
    "\n",
    "display(df.loc[36,:]['raw_event'].compute())"
   ]
  },
  {
   "cell_type": "code",
   "execution_count": null,
   "metadata": {},
   "outputs": [],
   "source": []
  },
  {
   "attachments": {},
   "cell_type": "markdown",
   "metadata": {},
   "source": [
    "check the independant nodes based referer value"
   ]
  },
  {
   "cell_type": "code",
   "execution_count": 40,
   "metadata": {},
   "outputs": [
    {
     "data": {
      "text/html": [
       "<div>\n",
       "<style scoped>\n",
       "    .dataframe tbody tr th:only-of-type {\n",
       "        vertical-align: middle;\n",
       "    }\n",
       "\n",
       "    .dataframe tbody tr th {\n",
       "        vertical-align: top;\n",
       "    }\n",
       "\n",
       "    .dataframe thead th {\n",
       "        text-align: right;\n",
       "    }\n",
       "</style>\n",
       "<table border=\"1\" class=\"dataframe\">\n",
       "  <thead>\n",
       "    <tr style=\"text-align: right;\">\n",
       "      <th></th>\n",
       "      <th>dest_address</th>\n",
       "      <th>raw_event</th>\n",
       "      <th>http_referer</th>\n",
       "      <th>request_url</th>\n",
       "      <th>response_code</th>\n",
       "      <th>src_address</th>\n",
       "    </tr>\n",
       "  </thead>\n",
       "  <tbody>\n",
       "    <tr>\n",
       "      <th>0</th>\n",
       "      <td>36.110.97.178</td>\n",
       "      <td>27.221.108.60-&lt;174&gt;Apr  2 00:00:23 sdjn-self h...</td>\n",
       "      <td>NaN</td>\n",
       "      <td>/</td>\n",
       "      <td>200</td>\n",
       "      <td>119.188.182.132</td>\n",
       "    </tr>\n",
       "    <tr>\n",
       "      <th>2</th>\n",
       "      <td>172.16.13.17</td>\n",
       "      <td>183.61.189.166-&lt;174&gt;Apr  2 17:21:33 gddg-self ...</td>\n",
       "      <td>NaN</td>\n",
       "      <td>/monAndProject/specialView?bercommId=502&amp;typeN...</td>\n",
       "      <td>200</td>\n",
       "      <td>157.55.39.211</td>\n",
       "    </tr>\n",
       "    <tr>\n",
       "      <th>3</th>\n",
       "      <td>172.16.16.14</td>\n",
       "      <td>116.211.138.194-&lt;174&gt;Apr  2 12:20:48 wh-self h...</td>\n",
       "      <td>NaN</td>\n",
       "      <td>/book/2750412</td>\n",
       "      <td>200</td>\n",
       "      <td>116.179.32.50</td>\n",
       "    </tr>\n",
       "    <tr>\n",
       "      <th>4</th>\n",
       "      <td>172.16.13.17</td>\n",
       "      <td>183.61.189.166-&lt;174&gt;Apr  2 17:14:53 gddg-self ...</td>\n",
       "      <td>NaN</td>\n",
       "      <td>/monAndProject/specialView?searchWord=&amp;field=%...</td>\n",
       "      <td>403</td>\n",
       "      <td>185.11.61.247</td>\n",
       "    </tr>\n",
       "    <tr>\n",
       "      <th>6</th>\n",
       "      <td>172.16.16.13</td>\n",
       "      <td>116.211.138.194-&lt;174&gt;Apr  2 17:24:30 wh-self h...</td>\n",
       "      <td>NaN</td>\n",
       "      <td>/book/8263572</td>\n",
       "      <td>200</td>\n",
       "      <td>220.181.108.155</td>\n",
       "    </tr>\n",
       "    <tr>\n",
       "      <th>...</th>\n",
       "      <td>...</td>\n",
       "      <td>...</td>\n",
       "      <td>...</td>\n",
       "      <td>...</td>\n",
       "      <td>...</td>\n",
       "      <td>...</td>\n",
       "    </tr>\n",
       "    <tr>\n",
       "      <th>43591</th>\n",
       "      <td>172.16.8.12</td>\n",
       "      <td>27.221.108.60-&lt;174&gt;Apr  3 23:42:27 sdjn-self h...</td>\n",
       "      <td>NaN</td>\n",
       "      <td>/search/makeInternet?param=%5BDe+Jong%2C+Kenne...</td>\n",
       "      <td>302</td>\n",
       "      <td>185.13.99.111</td>\n",
       "    </tr>\n",
       "    <tr>\n",
       "      <th>43592</th>\n",
       "      <td>172.16.8.14</td>\n",
       "      <td>27.221.108.60-&lt;174&gt;Apr  3 23:45:06 sdjn-self h...</td>\n",
       "      <td>NaN</td>\n",
       "      <td>/book/7108463</td>\n",
       "      <td>302</td>\n",
       "      <td>54.36.149.72</td>\n",
       "    </tr>\n",
       "    <tr>\n",
       "      <th>43593</th>\n",
       "      <td>172.16.8.12</td>\n",
       "      <td>27.221.108.60-&lt;174&gt;Apr  3 23:54:11 sdjn-self h...</td>\n",
       "      <td>NaN</td>\n",
       "      <td>/book/1204271</td>\n",
       "      <td>200</td>\n",
       "      <td>116.179.32.138</td>\n",
       "    </tr>\n",
       "    <tr>\n",
       "      <th>43598</th>\n",
       "      <td>172.16.16.13</td>\n",
       "      <td>116.211.138.194-&lt;174&gt;Apr  3 13:06:17 wh-self h...</td>\n",
       "      <td>NaN</td>\n",
       "      <td>/monAndProject/specialView?searchWord=&amp;typeId=...</td>\n",
       "      <td>200</td>\n",
       "      <td>54.36.148.231</td>\n",
       "    </tr>\n",
       "    <tr>\n",
       "      <th>43599</th>\n",
       "      <td>172.16.9.13</td>\n",
       "      <td>180.96.16.229-&lt;174&gt;Apr  3 11:29:07 jsnj-self h...</td>\n",
       "      <td>NaN</td>\n",
       "      <td>/monAndProject/more?type=%E4%B8%93%E9%A2%98%E7...</td>\n",
       "      <td>200</td>\n",
       "      <td>3.223.44.119</td>\n",
       "    </tr>\n",
       "  </tbody>\n",
       "</table>\n",
       "<p>54594 rows × 6 columns</p>\n",
       "</div>"
      ],
      "text/plain": [
       "        dest_address                                          raw_event  \\\n",
       "0      36.110.97.178  27.221.108.60-<174>Apr  2 00:00:23 sdjn-self h...   \n",
       "2       172.16.13.17  183.61.189.166-<174>Apr  2 17:21:33 gddg-self ...   \n",
       "3       172.16.16.14  116.211.138.194-<174>Apr  2 12:20:48 wh-self h...   \n",
       "4       172.16.13.17  183.61.189.166-<174>Apr  2 17:14:53 gddg-self ...   \n",
       "6       172.16.16.13  116.211.138.194-<174>Apr  2 17:24:30 wh-self h...   \n",
       "...              ...                                                ...   \n",
       "43591    172.16.8.12  27.221.108.60-<174>Apr  3 23:42:27 sdjn-self h...   \n",
       "43592    172.16.8.14  27.221.108.60-<174>Apr  3 23:45:06 sdjn-self h...   \n",
       "43593    172.16.8.12  27.221.108.60-<174>Apr  3 23:54:11 sdjn-self h...   \n",
       "43598   172.16.16.13  116.211.138.194-<174>Apr  3 13:06:17 wh-self h...   \n",
       "43599    172.16.9.13  180.96.16.229-<174>Apr  3 11:29:07 jsnj-self h...   \n",
       "\n",
       "      http_referer                                        request_url  \\\n",
       "0              NaN                                                  /   \n",
       "2              NaN  /monAndProject/specialView?bercommId=502&typeN...   \n",
       "3              NaN                                      /book/2750412   \n",
       "4              NaN  /monAndProject/specialView?searchWord=&field=%...   \n",
       "6              NaN                                      /book/8263572   \n",
       "...            ...                                                ...   \n",
       "43591          NaN  /search/makeInternet?param=%5BDe+Jong%2C+Kenne...   \n",
       "43592          NaN                                      /book/7108463   \n",
       "43593          NaN                                      /book/1204271   \n",
       "43598          NaN  /monAndProject/specialView?searchWord=&typeId=...   \n",
       "43599          NaN  /monAndProject/more?type=%E4%B8%93%E9%A2%98%E7...   \n",
       "\n",
       "       response_code      src_address  \n",
       "0                200  119.188.182.132  \n",
       "2                200    157.55.39.211  \n",
       "3                200    116.179.32.50  \n",
       "4                403    185.11.61.247  \n",
       "6                200  220.181.108.155  \n",
       "...              ...              ...  \n",
       "43591            302    185.13.99.111  \n",
       "43592            302     54.36.149.72  \n",
       "43593            200   116.179.32.138  \n",
       "43598            200    54.36.148.231  \n",
       "43599            200     3.223.44.119  \n",
       "\n",
       "[54594 rows x 6 columns]"
      ]
     },
     "execution_count": 40,
     "metadata": {},
     "output_type": "execute_result"
    }
   ],
   "source": [
    "df[df[\"http_referer\"].isna()].compute()"
   ]
  },
  {
   "cell_type": "code",
   "execution_count": 37,
   "metadata": {},
   "outputs": [
    {
     "data": {
      "text/plain": [
       "0                                                      NaN\n",
       "1                      https://www.cebookss.com/book/15979\n",
       "2                                                      NaN\n",
       "3                                                      NaN\n",
       "4                                                      NaN\n",
       "                               ...                        \n",
       "43597    https://www.cebookss.com/monAndProject/special...\n",
       "43598                                                  NaN\n",
       "43599                                                  NaN\n",
       "43600               https://www.cebookss.com/book/11410775\n",
       "43601                https://www.cebookss.com/book/6055861\n",
       "Name: http_referer, Length: 140266, dtype: object"
      ]
     },
     "execution_count": 37,
     "metadata": {},
     "output_type": "execute_result"
    }
   ],
   "source": [
    "df[\"http_referer\"].compute()"
   ]
  },
  {
   "cell_type": "code",
   "execution_count": null,
   "metadata": {},
   "outputs": [],
   "source": []
  }
 ],
 "metadata": {
  "kernelspec": {
   "display_name": "env",
   "language": "python",
   "name": "python3"
  },
  "language_info": {
   "codemirror_mode": {
    "name": "ipython",
    "version": 3
   },
   "file_extension": ".py",
   "mimetype": "text/x-python",
   "name": "python",
   "nbconvert_exporter": "python",
   "pygments_lexer": "ipython3",
   "version": "3.8.1"
  },
  "orig_nbformat": 4
 },
 "nbformat": 4,
 "nbformat_minor": 2
}
